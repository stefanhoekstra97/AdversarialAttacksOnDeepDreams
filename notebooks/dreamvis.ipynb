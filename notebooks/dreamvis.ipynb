{
 "cells": [
  {
   "cell_type": "code",
   "execution_count": 1,
   "metadata": {},
   "outputs": [],
   "source": [
    "import ipywidgets as ipw\n",
    "from ipywidgets import interact, FloatLogSlider, IntSlider, interact_manual, interactive, interactive_output, fixed\n",
    "%matplotlib inline"
   ]
  },
  {
   "cell_type": "code",
   "execution_count": 2,
   "metadata": {},
   "outputs": [],
   "source": [
    "# Hacky but for now..\n",
    "import sys\n",
    "sys.path.append('../')\n",
    "from lightning_trainer import LitModelTrainer\n",
    "from generate_dreams.render_engine import generate_dream"
   ]
  },
  {
   "cell_type": "code",
   "execution_count": 3,
   "metadata": {},
   "outputs": [],
   "source": [
    "import matplotlib.pyplot as plt\n",
    "plt.rcParams['figure.dpi'] = 300\n",
    "\n",
    "import numpy as np\n",
    "\n",
    "import json\n",
    "\n",
    "import torch\n",
    "from torch.utils.data import DataLoader\n",
    "\n",
    "import PIL\n",
    "from PIL import GifImagePlugin, Image, ImageDraw, ImageFont\n",
    "\n",
    "import torchvision\n",
    "from torchvision.datasets import CIFAR10, MNIST\n",
    "from torchvision import transforms\n",
    "\n",
    "\n",
    "\n"
   ]
  },
  {
   "cell_type": "code",
   "execution_count": 4,
   "metadata": {},
   "outputs": [
    {
     "name": "stderr",
     "output_type": "stream",
     "text": [
      "c:\\Users\\stefa\\AppData\\Local\\Programs\\Python\\Python310\\lib\\site-packages\\torch\\nn\\modules\\lazy.py:178: UserWarning: Lazy modules are a new feature under heavy development so changes to the API or functionality can happen at any moment.\n",
      "  warnings.warn('Lazy modules are a new feature under heavy development '\n"
     ]
    }
   ],
   "source": [
    "\n",
    "torch_device = torch.device('cuda' if torch.cuda.is_available() else 'cpu')\n",
    "models = {}\n",
    "use_dataset:str = \"CIFAR\"\n",
    "# use_dataset:str = \"MNIST\"\n",
    "# \n",
    "_model_loc_list_cifar = {\n",
    "    \"basemodel\": '../trained_models/CIFAR/base/version_0/checkpoints/model.ckpt',\n",
    "\n",
    "}\n",
    "\n",
    "_model_loc_list_mnist = {\n",
    "\n",
    "}\n",
    "\n",
    "if \"MNIST\" in use_dataset:\n",
    "    _model_loc_list = _model_loc_list_mnist\n",
    "else:\n",
    "    _model_loc_list = _model_loc_list_cifar\n",
    "\n",
    "for _modelname, _modelloc in _model_loc_list.items():\n",
    "    _cpth = LitModelTrainer.load_from_checkpoint(_modelloc)\n",
    "    _model = _cpth.model\n",
    "    _model.eval()\n",
    "    models[_modelname] = _model\n",
    "\n",
    "\n",
    "dev = False # For dev purposes - Does not execute long exec.time cells if not developing them\n",
    "# save_data = True\n",
    "save_data = False\n",
    "save_loc = 'imgs/test'\n",
    "save_suffix = '_test'"
   ]
  },
  {
   "cell_type": "code",
   "execution_count": 5,
   "metadata": {},
   "outputs": [
    {
     "name": "stdout",
     "output_type": "stream",
     "text": [
      "Files already downloaded and verified\n",
      "Downloading http://yann.lecun.com/exdb/mnist/train-images-idx3-ubyte.gz\n",
      "Downloading http://yann.lecun.com/exdb/mnist/train-images-idx3-ubyte.gz to ../../../data/mnist/MNIST\\raw\\train-images-idx3-ubyte.gz\n"
     ]
    },
    {
     "name": "stderr",
     "output_type": "stream",
     "text": [
      "100%|██████████| 9912422/9912422 [00:00<00:00, 79805497.21it/s]\n"
     ]
    },
    {
     "name": "stdout",
     "output_type": "stream",
     "text": [
      "Extracting ../../../data/mnist/MNIST\\raw\\train-images-idx3-ubyte.gz to ../../../data/mnist/MNIST\\raw\n",
      "\n",
      "Downloading http://yann.lecun.com/exdb/mnist/train-labels-idx1-ubyte.gz\n",
      "Downloading http://yann.lecun.com/exdb/mnist/train-labels-idx1-ubyte.gz to ../../../data/mnist/MNIST\\raw\\train-labels-idx1-ubyte.gz\n"
     ]
    },
    {
     "name": "stderr",
     "output_type": "stream",
     "text": [
      "100%|██████████| 28881/28881 [00:00<?, ?it/s]\n"
     ]
    },
    {
     "name": "stdout",
     "output_type": "stream",
     "text": [
      "Extracting ../../../data/mnist/MNIST\\raw\\train-labels-idx1-ubyte.gz to ../../../data/mnist/MNIST\\raw\n",
      "\n",
      "Downloading http://yann.lecun.com/exdb/mnist/t10k-images-idx3-ubyte.gz\n",
      "Downloading http://yann.lecun.com/exdb/mnist/t10k-images-idx3-ubyte.gz to ../../../data/mnist/MNIST\\raw\\t10k-images-idx3-ubyte.gz\n"
     ]
    },
    {
     "name": "stderr",
     "output_type": "stream",
     "text": [
      "100%|██████████| 1648877/1648877 [00:00<00:00, 33289970.00it/s]\n"
     ]
    },
    {
     "name": "stdout",
     "output_type": "stream",
     "text": [
      "Extracting ../../../data/mnist/MNIST\\raw\\t10k-images-idx3-ubyte.gz to ../../../data/mnist/MNIST\\raw\n",
      "\n",
      "Downloading http://yann.lecun.com/exdb/mnist/t10k-labels-idx1-ubyte.gz\n",
      "Downloading http://yann.lecun.com/exdb/mnist/t10k-labels-idx1-ubyte.gz to ../../../data/mnist/MNIST\\raw\\t10k-labels-idx1-ubyte.gz\n"
     ]
    },
    {
     "name": "stderr",
     "output_type": "stream",
     "text": [
      "100%|██████████| 4542/4542 [00:00<?, ?it/s]"
     ]
    },
    {
     "name": "stdout",
     "output_type": "stream",
     "text": [
      "Extracting ../../../data/mnist/MNIST\\raw\\t10k-labels-idx1-ubyte.gz to ../../../data/mnist/MNIST\\raw\n",
      "\n"
     ]
    },
    {
     "name": "stderr",
     "output_type": "stream",
     "text": [
      "\n"
     ]
    }
   ],
   "source": [
    "_transforms = transforms.Compose([transforms.ToTensor(),])\n",
    "_to_pil = transforms.ToPILImage()\n",
    "\n",
    "_CIFAR_data = CIFAR10(root='../../../data/cifar/', train=True, download=True, transform=_transforms)\n",
    "cifar_dataloader = DataLoader(dataset=_CIFAR_data, batch_size=128, shuffle=False, num_workers=0)\n",
    "\n",
    "\n",
    "_MNIST_data = MNIST(root='../../../data/mnist/', train=True, download=True, transform=_transforms)\n",
    "mnist_dataloader = DataLoader(dataset=_MNIST_data, batch_size=128, shuffle=False, num_workers=0)\n",
    "\n",
    "if \"MNIST\" in use_dataset:\n",
    "    dataloader = mnist_dataloader\n",
    "else:\n",
    "    dataloader = cifar_dataloader\n",
    "\n"
   ]
  },
  {
   "cell_type": "code",
   "execution_count": 6,
   "metadata": {},
   "outputs": [],
   "source": [
    "img_b = next(iter(dataloader))\n",
    "_x, _y = img_b\n",
    "\n",
    "_unique, _inverse = torch.unique(_y, return_inverse=True, dim=0)\n",
    "\n",
    "_perm = torch.arange(_inverse.size(0), dtype=_inverse.dtype, device=_inverse.device)\n",
    "\n",
    "_inverse, _perm = _inverse.flip([0]), _perm.flip([0])\n",
    "\n",
    "_first_class_idxs = _inverse.new_empty(_unique.size(0)).scatter_(0, _inverse, _perm)"
   ]
  },
  {
   "cell_type": "code",
   "execution_count": 7,
   "metadata": {},
   "outputs": [],
   "source": [
    "_dream_imgs = _x[_first_class_idxs]\n",
    "_dream_lbl = torch.arange(0, 10, 1, device=torch_device)\n",
    "\n",
    "img_b = (_dream_imgs, _dream_lbl)"
   ]
  },
  {
   "cell_type": "code",
   "execution_count": 8,
   "metadata": {},
   "outputs": [
    {
     "data": {
      "image/png": "[encoded data removed]",
      "text/plain": [
       "<Figure size 1800x1200 with 1 Axes>"
      ]
     },
     "metadata": {},
     "output_type": "display_data"
    }
   ],
   "source": [
    "_x, _y = img_b\n",
    "\n",
    "_first_img = torchvision.utils.make_grid(_x, padding=2, nrow=5, pad_value=1).detach().cpu()\n",
    "_first_img = _to_pil(_first_img)\n",
    "\n",
    "axes = plt.imshow(_first_img, interpolation=None)\n",
    "plt.tick_params(\n",
    "    axis='both',\n",
    "    which='both',\n",
    "    bottom=False,\n",
    "    top=False,\n",
    "    labelleft=False,\n",
    "    labelbottom=False,\n",
    "    left=False)\n",
    "for pos in ['right', 'top', 'bottom', 'left']:\n",
    "    plt.gca().spines[pos].set_visible(False)\n",
    "plt.savefig(f'imgs/{use_dataset}_first_imgs.pdf')\n",
    "plt.show()"
   ]
  },
  {
   "cell_type": "code",
   "execution_count": 9,
   "metadata": {},
   "outputs": [],
   "source": [
    "# boatimg = _x[5]\n",
    "# boatimg = _to_pil(boatimg)\n",
    "# with open(\"imgs/5.jpeg\", 'wb') as f:\n",
    "#     boatimg.save(fp=f , format=\"jpeg\", quality=100)"
   ]
  },
  {
   "cell_type": "code",
   "execution_count": 10,
   "metadata": {},
   "outputs": [],
   "source": [
    "# if save_gif:\n",
    "#     pil_img_array[0].save(gif_save_loc + 'lr1e3_smooth_cat_pgd5.gif', format='GIF',\n",
    "#         append_images=pil_img_array[1:],\n",
    "#         duration=50,\n",
    "#         interlace=False,\n",
    "#         save_all=True,\n",
    "#         loop=0)"
   ]
  },
  {
   "cell_type": "code",
   "execution_count": null,
   "metadata": {},
   "outputs": [],
   "source": [
    "\n"
   ]
  },
  {
   "cell_type": "code",
   "execution_count": 11,
   "metadata": {},
   "outputs": [],
   "source": [
    "def calculate_lpdist(im1:torch.Tensor, im2:torch.Tensor, ord=2):\n",
    "    diff = torch.sub(im1, im2)\n",
    "    return torch.linalg.vector_norm(diff, ord=ord, dim=(-3, -2, -1))\n"
   ]
  },
  {
   "cell_type": "code",
   "execution_count": 12,
   "metadata": {},
   "outputs": [],
   "source": [
    "class control_params():\n",
    "    def __init__(self, architecture='CIFAR'):\n",
    "\n",
    "        if architecture == 'CIFAR':\n",
    "            self._iter_step = 1\n",
    "            self._max_iter = 512\n",
    "            self._iter_list = np.arange(0, self._max_iter + self._iter_step, self._iter_step)\n",
    "\n",
    "            self._lrstart = -4\n",
    "            self._lrstop = -1\n",
    "            self._lr_list = np.logspace(base=10, start=self._lrstart, stop=self._lrstop, num=self._lrstop - self._lrstart + 1)\n",
    "\n",
    "            self._lr_slider = FloatLogSlider(value=(10**self._lrstart), base=10, min=self._lrstart, max=self._lrstop, step=1, description=\"LR\", readout_format=\".4f\")\n",
    "\n",
    "            self._l2_start = 0\n",
    "            self._l2_stop = 0\n",
    "            self._l2_step = 5\n",
    "            self._l2_weight_list = np.arange(start=self._l2_start, stop=self._l2_start + self._l2_stop +1, step=self._l2_step)\n",
    "            self._l2_slider = IntSlider(min=self._l2_start, max=self._l2_stop, step=self._l2_step, value=self._l2_start)\n",
    "\n",
    "            \n",
    "        elif architecture == 'MNIST':\n",
    "            self._iter_step = 1\n",
    "            self._max_iter = 256\n",
    "            self._iter_list = np.arange(0, self._max_iter + self._iter_step, self._iter_step)\n",
    "\n",
    "            self._lrstart = -3\n",
    "            self._lrstop = -1\n",
    "            self._lr_list = np.logspace(base=10, start=self._lrstart, stop=self._lrstop, num=self._lrstop - self._lrstart + 1)\n",
    "            self._lr_slider = FloatLogSlider(value=(10**self._lrstart), base=10, min=self._lrstart, max=self._lrstop, step=1, description=\"LR\", readout_format=\".4f\")\n",
    "\n",
    "            self._l2_start = 0\n",
    "            self._l2_stop = 0\n",
    "            self._l2_step = 25\n",
    "            self._l2_weight_list = np.arange(start=self._l2_start, stop=self._l2_start + self._l2_stop + 1, step=self._l2_step)\n",
    "            self._l2_slider = IntSlider(min=self._l2_start, max=self._l2_stop, step=self._l2_step, value=self._l2_start)\n"
   ]
  },
  {
   "cell_type": "code",
   "execution_count": 18,
   "metadata": {},
   "outputs": [],
   "source": [
    "def interactive_dreams(model, **dream_params):\n",
    "\n",
    "    cp = control_params(use_dataset)\n",
    "\n",
    "    hparam_dict = {\"lr_list\": cp._lr_list.tolist(), \"iter_list\": cp._iter_list.tolist(), \"l2_weight_list\": cp._l2_weight_list.tolist(), **dream_params}\n",
    "\n",
    "    dreams = {}\n",
    "    raw_dreams = {}\n",
    "    logit_diffs = {}\n",
    "\n",
    "    for _lr_value in cp._lr_list:\n",
    "        dreams[_lr_value] = {}\n",
    "        raw_dreams[_lr_value] = {}\n",
    "        logit_diffs[_lr_value] = {}\n",
    "\n",
    "        _l2_w_value = 0\n",
    "        dreams[_lr_value][_l2_w_value] = []\n",
    "        raw_dreams[_lr_value][_l2_w_value] = []\n",
    "        logit_diffs[_lr_value][_l2_w_value] = []\n",
    "\n",
    "        _dream_img_tensor = generate_dream(model=model,\n",
    "            batch=img_b,\n",
    "            device=torch_device,\n",
    "            opt_lr=_lr_value,\n",
    "            iterations=cp._iter_list,\n",
    "            **dream_params\n",
    "            )\n",
    "        for i in range(len(cp._iter_list)):\n",
    "            # _dream_tens = torch.cat((_dream_img_tensor[i], _dream_img_tensor_test[i]), dim=0)\n",
    "            _dream_tens = _dream_img_tensor[i]\n",
    "            _grid_img = torchvision.utils.make_grid(_dream_tens, padding=2, nrow=10, pad_value=1).detach().cpu()\n",
    "            _pil_img = _to_pil(_grid_img)\n",
    "            dreams[_lr_value][0].append(_pil_img)\n",
    "            raw_dreams[_lr_value][0].append(_dream_tens)\n",
    "                \n",
    "\n",
    "\n",
    "    def show_gif():\n",
    "\n",
    "        def view_img(i, lr):\n",
    "            # if ax_data:\n",
    "            #     ax_data.set_data(dreams[lr][l2_weight][i//_iter_step])\n",
    "            # else:\n",
    "            #     ax_data = ax.imshow(dreams[lr][l2_weight][i//_iter_step], interpolation=None)\n",
    "\n",
    "            fig, ax = plt.subplots(figsize = (12, 4))\n",
    "            ax.imshow(dreams[lr][0][i//cp._iter_step], interpolation=None)\n",
    "            plt.tick_params(\n",
    "                axis='both',\n",
    "                which='both',\n",
    "                bottom=False,\n",
    "                top=False,\n",
    "                labelleft=False,\n",
    "                labelbottom=False,\n",
    "                left=False)\n",
    "            for pos in ['right', 'top', 'bottom', 'left']:\n",
    "                plt.gca().spines[pos].set_visible(False)\n",
    "            plt.show()\n",
    "            \n",
    "            dists = calculate_lpdist(raw_dreams[lr][0][i//cp._iter_step], raw_dreams[lr][0][0], ord=2).tolist()\n",
    "            print(f'\\n L2 distance to original:\\n {[\"{0:0.2f}\".format(val) for val in dists]}')\n",
    "            print(f'\\n Mean distance of this set: {np.mean(dists):.4f}')\n",
    "\n",
    "        interact(view_img, i=(0, cp._iter_list[-1], cp._iter_step), lr=cp._lr_slider)\n",
    "\n",
    "\n",
    "    return show_gif(), dreams, hparam_dict"
   ]
  },
  {
   "cell_type": "code",
   "execution_count": 19,
   "metadata": {},
   "outputs": [],
   "source": [
    "def append_images(images, direction='horizontal',\n",
    "                  bg_color=(255,255,255), aligment='center', padding=4):\n",
    "    \"\"\"\n",
    "    Appends images in horizontal/vertical direction.\n",
    "\n",
    "    Args:\n",
    "        images: List of PIL images\n",
    "        direction: direction of concatenation, 'horizontal' or 'vertical'\n",
    "        bg_color: Background color (default: white)\n",
    "        aligment: alignment mode if images need padding;\n",
    "           'left', 'right', 'top', 'bottom', or 'center'\n",
    "\n",
    "    Returns:\n",
    "        Concatenated image as a new PIL image object.\n",
    "    \"\"\"\n",
    "    widths, heights = zip(*(i.size for i in images))\n",
    "\n",
    "    \n",
    "    if direction=='horizontal':\n",
    "        new_width = sum(widths) + (len(images) * padding)\n",
    "        new_height = max(heights) + (2 * padding)\n",
    "    else:\n",
    "        new_width = max(widths)\n",
    "        new_height = sum(heights) \n",
    "\n",
    "    new_im = Image.new('RGB', (new_width, new_height), color=bg_color)\n",
    "\n",
    "\n",
    "    offset = 0\n",
    "    for im in images:\n",
    "        if direction=='horizontal':\n",
    "            y = 0\n",
    "            if aligment == 'center':\n",
    "                y = int((new_height - im.size[1])/2)\n",
    "            elif aligment == 'bottom':\n",
    "                y = new_height - im.size[1]\n",
    "            new_im.paste(im, (offset, y))\n",
    "            offset += im.size[0] + padding\n",
    "        else:\n",
    "            x = 0\n",
    "            if aligment == 'center':\n",
    "                x = int((new_width - im.size[0])/2)\n",
    "            elif aligment == 'right':\n",
    "                x = new_width - im.size[0]\n",
    "            new_im.paste(im, (x, offset))\n",
    "            offset += im.size[1] + padding\n",
    "\n",
    "    return new_im"
   ]
  },
  {
   "cell_type": "code",
   "execution_count": 22,
   "metadata": {},
   "outputs": [],
   "source": [
    "def create_iteration_legend(slice_step:int = 1, direction='vertical'):\n",
    "    width, height = 32, 28\n",
    "    # width, height = 32, 32\n",
    "    img_l = []\n",
    "    for i in range(9):\n",
    "        img = Image.new('RGB', (width, height), color=(255,255,255))\n",
    "        # if i != 0:\n",
    "        #     fnt = ImageFont.truetype('Arial.ttf', 13)\n",
    "        #     draw_img = ImageDraw.Draw(img)\n",
    "        #     draw_img.text(xy = (4, 8), text=str(i * slice_step), fill=(0,0,0), font=fnt)\n",
    "        img_l.append(img)\n",
    "    return append_images(img_l, direction=direction)"
   ]
  },
  {
   "cell_type": "code",
   "execution_count": 23,
   "metadata": {},
   "outputs": [
    {
     "name": "stdout",
     "output_type": "stream",
     "text": [
      "Dreams for model basemodel\n",
      "params: {'parametrization': 'tanh'}\n"
     ]
    },
    {
     "data": {
      "application/vnd.jupyter.widget-view+json": {
       "model_id": "f388b3e76c524b5ca91a3ad79a4a38de",
       "version_major": 2,
       "version_minor": 0
      },
      "text/plain": [
       "interactive(children=(IntSlider(value=256, description='i', max=512), FloatLogSlider(value=0.0001, description…"
      ]
     },
     "metadata": {},
     "output_type": "display_data"
    },
    {
     "name": "stdout",
     "output_type": "stream",
     "text": [
      "step: 64 for lr 0.0001\n",
      "step: 64 for lr 0.001\n",
      "step: 16 for lr 0.01\n",
      "step: 4 for lr 0.1\n"
     ]
    }
   ],
   "source": [
    "if not dev:\n",
    "\n",
    "    # _x, _y = _x[5].unsqueeze(0), _y[5].unsqueeze(0)\n",
    "    # img_b = _x, _y\n",
    "\n",
    "\n",
    "    _steps_dict = {\n",
    "        'MNIST': {\n",
    "            0.001: 64,\n",
    "            0.01: 32,\n",
    "            0.1: 16,\n",
    "            1.0: 2\n",
    "        }, \n",
    "        'CIFAR': {\n",
    "            0.0001: 64,\n",
    "            # 0.001: 64,\n",
    "            0.01: 16,\n",
    "            0.1: 4,\n",
    "            1.0: 1\n",
    "        }\n",
    "    }\n",
    "\n",
    "\n",
    "    # print(\"This likely is slow. You have been warned ;)\")\n",
    "\n",
    "    dream_kwarg = {\n",
    "                    # \"use_parametrization\":\"linear\", bound_hyperbolic,\n",
    "                    # \"linf_limit\": 0.2,\n",
    "                    # \"penal_f\":\"bound_hyperbolic\",\n",
    "                    # penal_factor,\n",
    "                    # limit_eps = 1.0\n",
    "                    \"parametrization\":\"tanh\",\n",
    "                    \n",
    "                    }\n",
    "    dreams_to_save = {}\n",
    "    \n",
    "    for _identifier, _model in models.items():\n",
    "        print(f\"Dreams for model {_identifier}\")\n",
    "        print(f\"params: {dream_kwarg}\")\n",
    "        \n",
    "        interactive_d, dreams, hparam_dict = interactive_dreams(_model, **dream_kwarg)\n",
    "\n",
    "\n",
    "        im = {}\n",
    "        for lr_ in dreams:\n",
    "            if lr_ in _steps_dict[use_dataset]:\n",
    "                _step = _steps_dict[use_dataset][lr_]\n",
    "            else:\n",
    "                _step = len(dreams[lr_][0]) // 8\n",
    "            \n",
    "            print(f\"step: {_step} for lr {lr_}\")\n",
    "\n",
    "            # _dreams =  append_images(dreams[lr_][0][:(8*_step)+1:_step], direction='vertical')\n",
    "            # im[lr_] = append_images([create_iteration_legend(_step), _dreams], direction='horizontal')\n",
    "\n",
    "            _dreams =  append_images(dreams[lr_][0][:(8*_step)+1:_step], direction='horizontal', padding=8)\n",
    "            im[lr_] = append_images([create_iteration_legend(_step, 'horizontal'), _dreams], direction='vertical', padding=2)\n",
    "\n",
    "        for _, dream_stacked in im.items():\n",
    "            dreams_to_save[f\"{save_loc}/{use_dataset}_{_identifier}_lr{_}_5\"] = dream_stacked\n",
    "            \n",
    "            \n",
    "        # if save_data:\n",
    "        #     _save_name = save_loc +_identifier.replace(\" \", \"_\")+ \"_\" +save_suffix\n",
    "        #     torch.save(dreams, _save_name + '.pkl')\n",
    "        #     with open((_save_name + \".json\"), 'w') as f:\n",
    "        #         json.dump(hparam_dict, f, indent=4)\n",
    "        \n"
   ]
  },
  {
   "cell_type": "code",
   "execution_count": 24,
   "metadata": {},
   "outputs": [],
   "source": [
    "\n",
    "if save_data:\n",
    "    for name, dream_img in dreams_to_save.items():\n",
    "        with open(name + \".jpeg\", 'wb') as f:\n",
    "            # dream_img.save(fp=f , format=\"bmp\", resolution=50)\n",
    "            dream_img.save(fp=f , format=\"jpeg\", quality=100)\n",
    "\n",
    "\n",
    "# display(dreams[0.01][0][8])"
   ]
  }
 ],
 "metadata": {
  "kernelspec": {
   "display_name": "Python 3.10.6 64-bit",
   "language": "python",
   "name": "python3"
  },
  "language_info": {
   "codemirror_mode": {
    "name": "ipython",
    "version": 3
   },
   "file_extension": ".py",
   "mimetype": "text/x-python",
   "name": "python",
   "nbconvert_exporter": "python",
   "pygments_lexer": "ipython3",
   "version": "3.10.6"
  },
  "orig_nbformat": 4,
  "vscode": {
   "interpreter": {
    "hash": "a6bbff785f7dca992236909a4969e32f59102c4fceccb1043997c81bace8c71c"
   }
  }
 },
 "nbformat": 4,
 "nbformat_minor": 2
}
