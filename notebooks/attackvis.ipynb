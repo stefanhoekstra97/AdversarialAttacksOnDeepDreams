{
 "cells": [
  {
   "cell_type": "code",
   "execution_count": 1,
   "metadata": {},
   "outputs": [],
   "source": [
    "# %matplotlib -l"
   ]
  },
  {
   "cell_type": "code",
   "execution_count": 2,
   "metadata": {},
   "outputs": [],
   "source": [
    "import ipywidgets as ipw\n",
    "from ipywidgets import interact, FloatLogSlider, IntSlider, interact_manual, interactive, interactive_output, fixed"
   ]
  },
  {
   "cell_type": "code",
   "execution_count": 3,
   "metadata": {},
   "outputs": [],
   "source": [
    "import matplotlib.pyplot as plt\n",
    "\n",
    "# PLT params\n",
    "%matplotlib widget\n",
    "# %matplotlib inline\n",
    "\n",
    "plt.rcParams['figure.dpi'] = 50\n",
    "\n",
    "\n",
    "import numpy as np\n",
    "\n",
    "import json\n",
    "\n",
    "import torch\n",
    "from torch.utils.data import DataLoader\n",
    "\n",
    "import PIL\n",
    "from PIL import GifImagePlugin, Image, ImageDraw, ImageFont\n",
    "\n",
    "import torchvision\n",
    "from torchvision.datasets import CIFAR10, MNIST\n",
    "from torchvision import transforms\n",
    "\n",
    "import foolbox as fb"
   ]
  },
  {
   "cell_type": "code",
   "execution_count": 4,
   "metadata": {},
   "outputs": [],
   "source": [
    "torch_device = torch.device('cuda' if torch.cuda.is_available() else 'cpu')\n",
    "\n",
    "models = {}\n",
    "_cifar_moddellocs = {\n",
    "    \"basemodel\": './modelfolder/cifar_base.pkl',\n",
    "    \"PGD5\": './modelfolder/cifar_pgd5.pkl',\n",
    "    # \"PGDDream-16itlr1e-3\": 'modelfolder/cifar_PGD_dream16_1e-3.pkl',\n",
    "    # \"CW20-0.1\": 'modelfolder/cifar_CW20.pkl'\n",
    "}\n",
    "\n",
    "for _modelname, _modelloc in _cifar_moddellocs.items():\n",
    "    _model = torch.load(_modelloc, map_location=torch_device)\n",
    "    _model.eval()\n",
    "    models[_modelname] = _model\n",
    "\n",
    "\n",
    "\n"
   ]
  },
  {
   "cell_type": "code",
   "execution_count": 5,
   "metadata": {},
   "outputs": [
    {
     "name": "stdout",
     "output_type": "stream",
     "text": [
      "Files already downloaded and verified\n"
     ]
    }
   ],
   "source": [
    "_transforms = transforms.Compose([transforms.ToTensor(),])\n",
    "_to_pil = transforms.ToPILImage()\n",
    "\n",
    "_CIFAR_data = CIFAR10(root='../../data/cifar/', train=True, download=True, transform=_transforms)\n",
    "cifar_dataloader = DataLoader(dataset=_CIFAR_data, batch_size=128, shuffle=False, num_workers=0)\n",
    "dataloader = cifar_dataloader"
   ]
  },
  {
   "cell_type": "code",
   "execution_count": 6,
   "metadata": {},
   "outputs": [],
   "source": [
    "img_b = next(iter(dataloader))\n",
    "_x, _y = img_b\n",
    "\n",
    "_unique, _inverse = torch.unique(_y, return_inverse=True, dim=0)\n",
    "\n",
    "_perm = torch.arange(_inverse.size(0), dtype=_inverse.dtype, device=_inverse.device)\n",
    "\n",
    "_inverse, _perm = _inverse.flip([0]), _perm.flip([0])\n",
    "\n",
    "_first_class_idxs = _inverse.new_empty(_unique.size(0)).scatter_(0, _inverse, _perm)\n",
    "\n",
    "_dream_imgs = _x[_first_class_idxs]\n",
    "_dream_lbl = torch.arange(0, 10, 1, device=torch_device)\n",
    "\n",
    "img_b = (_dream_imgs, _dream_lbl)"
   ]
  },
  {
   "cell_type": "code",
   "execution_count": 7,
   "metadata": {},
   "outputs": [],
   "source": [
    "_x, _ = img_b\n",
    "_first_img = torchvision.utils.make_grid(_x, padding=2, nrow=5, pad_value=1).detach().cpu()\n",
    "_first_img = _to_pil(_first_img)\n",
    "\n",
    "# axes = plt.imshow(_first_img, interpolation=None)\n",
    "# plt.tick_params(\n",
    "#     axis='both',\n",
    "#     which='both',\n",
    "#     bottom=False,\n",
    "#     top=False,\n",
    "#     labelleft=False,\n",
    "#     labelbottom=False,\n",
    "#     left=False)\n",
    "# for pos in ['right', 'top', 'bottom', 'left']:\n",
    "#     plt.gca().spines[pos].set_visible(False)\n",
    "# plt.show()"
   ]
  },
  {
   "cell_type": "code",
   "execution_count": 8,
   "metadata": {},
   "outputs": [],
   "source": [
    "def rescale(tensor:torch.Tensor, range:tuple = (0, 1)):\n",
    "    '''Rescales tensor to a set range.'''\n",
    "    tensorMin = torch.min(tensor)\n",
    "    tensorMax = torch.max(tensor)\n",
    "  \n",
    "    return tensor.add(-1*tensorMin).div(tensorMax - tensorMin).mul(range[1] - range[0]).add(range[0])\n"
   ]
  },
  {
   "cell_type": "code",
   "execution_count": 9,
   "metadata": {},
   "outputs": [],
   "source": [
    "class attacks_interactive():\n",
    "\n",
    "# Initialize ipython widget populated with choices a user can make\n",
    "    def __init__(self, model: torch.nn.Module, sorted_imgbatch):\n",
    "        self.fmodel = fb.models.pytorch.PyTorchModel(model=model, bounds=(0,1))\n",
    "        self.targeted = False\n",
    "        self._eps_step = 0.01\n",
    "        self._eps_num = 20\n",
    "        self._l2_multiplier = 16\n",
    "\n",
    "        self.epsilons = np.linspace(start=0, stop=self._eps_step*self._eps_num, num=self._eps_num+1)\n",
    "\n",
    "        self.fig: plt.Figure\n",
    "        self.ax: plt.Axes\n",
    "        self.fig, self.ax = plt.subplots(nrows=1, ncols=1, figsize=(6,6))\n",
    "        \n",
    "        self.out_img = None\n",
    "\n",
    "        self.perturbed_imgs = {}\n",
    "\n",
    "        im, target = sorted_imgbatch\n",
    "        self.imgs, self.targets = im.to(torch_device), target.to(torch_device)\n",
    "\n",
    "        self.attack_dict = {\n",
    "            \"FGSM\": {\n",
    "                \"random_start\": ipw.Checkbox(value=True, description=\"Random starts\"),\n",
    "                # \"epsilons\": np.linspace(start=0, stop=self._eps_step*self._eps_num, num=self._eps_num+1)\n",
    "                },\n",
    "\n",
    "            \"PGD\": {\n",
    "                \"steps\": ipw.IntSlider(value=1, min=0, max=50, description=\"# steps\", continuous_update=False),\n",
    "                \"abs_stepsize\":ipw.FloatLogSlider(value=0.01, base=10, min=-3, max=0, step=1/3, description=\"Step size\", continuous_update=False),\n",
    "                # \"epsilons\": np.linspace(start=0, stop=self._eps_step*self._eps_num, num=self._eps_num+1)\n",
    "            },\n",
    "\n",
    "            \"CW\": {\n",
    "                \"steps\":ipw.IntSlider(value=1, min=0, max=50, description=\"# steps\", continuous_update=False),\n",
    "                \"stepsize\":ipw.FloatSlider(value=0.01, min=0, max=0.1, step=0.01, description=\"Step size\", continuous_update=False),\n",
    "                \"initial_const\": ipw.FloatLogSlider(value=10**-1, base=10, min=-3, max=5, step=1, description=\"Constant c\", continuous_update=False)},\n",
    "                # \"epsilons\": np.linspace(start=0, stop=self._eps_step*self._eps_num*16, num=self._eps_num+1)\n",
    "            }\n",
    "\n",
    "        self.attack_dropdown = ipw.Dropdown(options=[k for k in self.attack_dict.keys() if k != \"epsilons\"], description=\"Attack algorithm\", value=\"FGSM\", continuous_update=False)\n",
    "        self.attack_widget = ipw.interactive_output(self.setup_controls, {\"attack_id\"  : self.attack_dropdown})\n",
    "        self.output_w = ipw.Output()\n",
    "        display(self.output_w, self.attack_dropdown, self.attack_widget)\n",
    "\n",
    "\n",
    "    def setup_controls(self, attack_id=\"FGSM\"):\n",
    "\n",
    "        self.controls = []\n",
    "        self.controls += [val for key, val in self.attack_dict[attack_id].items() if key != \"epsilons\"]\n",
    "\n",
    "\n",
    "        eps_mul = self._l2_multiplier if self.attack_dropdown.value == \"CW\" else 1\n",
    "        self.eps_slider = ipw.FloatSlider(value=0, min=0, max=self._eps_step*self._eps_num*eps_mul, step=self._eps_step*eps_mul, description=\"Epsilon\", continuous_update=True)\n",
    "        self.eps_slider.observe(self.eps_changed, 'value')\n",
    "\n",
    "        self.controls.append(self.eps_slider)\n",
    "\n",
    "        for c in self.controls:\n",
    "            display(c)\n",
    "        \n",
    "        self.render_buttn = ipw.Button(description=\"Generate attack\", disabled=False)\n",
    "        display(self.render_buttn)\n",
    "        self.render_buttn.on_click(self.render_attack)\n",
    "\n",
    "    def render_attack(self, btn_called):    \n",
    "        # Set attack vector to params\n",
    "        if self.attack_dropdown.value == \"FGSM\":\n",
    "            self.set_fgsm(*self.controls)\n",
    "        if self.attack_dropdown.value == \"PGD\":\n",
    "            self.set_pgd(*self.controls)\n",
    "        if self.attack_dropdown.value == \"CW\":\n",
    "            self.set_cw(*self.controls)\n",
    "\n",
    "        # Clone img, execute FB attack\n",
    "        perturbed_x = self.imgs[0].clone().detach().unsqueeze(0)\n",
    "        fcriteria = fb.criteria.Misclassification(self.targets[0].unsqueeze(0))\n",
    "\n",
    "        use_eps = [epsval * 16 if self.attack_dropdown.value == \"CW\" else epsval for epsval in self.epsilons]\n",
    "        raw_advs, clipped_advs, success = self.attack(self.fmodel, perturbed_x, epsilons=use_eps, criterion=fcriteria)\n",
    "\n",
    "        \n",
    "        self.perturbed_imgs = {}\n",
    "        for pert_img, eps in zip(clipped_advs, use_eps):\n",
    "            pert_img= pert_img.cpu()\n",
    "\n",
    "            pert_diff = rescale(torch.sub(pert_img, perturbed_x.cpu()))\n",
    "            stacked = torch.stack([pert_img, pert_diff], dim=1).squeeze()\n",
    "            \n",
    "            self.perturbed_imgs[eps] = _to_pil(torchvision.utils.make_grid(stacked, nrow=2))\n",
    "\n",
    "\n",
    "        # Show attack visuals \n",
    "        if self.out_img is None:\n",
    "            self.out_img = self.fig.get_axes()[0].imshow(self.perturbed_imgs[self.eps_slider.value])\n",
    "        else:\n",
    "            self.out_img.set(data=self.perturbed_imgs[self.eps_slider.value])\n",
    "        plt.tick_params(\n",
    "            axis='both',\n",
    "            which='both',\n",
    "            bottom=False,\n",
    "            top=False,\n",
    "            labelleft=False,\n",
    "            labelbottom=False,\n",
    "            left=False)\n",
    "        for pos in ['right', 'top', 'bottom', 'left']:\n",
    "            plt.gca().spines[pos].set_visible(False)\n",
    "    \n",
    "\n",
    "    def set_fgsm(self, random_start, epsilons):\n",
    "        self.attack = fb.attacks.FGSM(random_start=random_start)\n",
    "\n",
    "    def set_pgd(self, steps, abs_stepsize, epsilons):\n",
    "        self.attack = fb.attacks.LinfPGD(steps=steps.value, abs_stepsize=abs_stepsize.value)\n",
    "    \n",
    "    def set_cw(self, steps, stepsize, initial_const, epsilons):\n",
    "        self.attack = fb.attacks.carlini_wagner.L2CarliniWagnerAttack(steps=steps.value, stepsize=stepsize.value, initial_const=initial_const.value, binary_search_steps=1, abort_early=True)\n",
    "\n",
    "\n",
    "    # Todo: More safety?\n",
    "    def eps_changed(self, change):\n",
    "        if self.perturbed_imgs and self.out_img is not None:\n",
    "            self.out_img.set(data=self.perturbed_imgs[self.eps_slider.value])\n",
    "\n"
   ]
  },
  {
   "cell_type": "code",
   "execution_count": 10,
   "metadata": {},
   "outputs": [
    {
     "data": {
      "application/vnd.jupyter.widget-view+json": {
       "model_id": "378992e956724d2c8ee665c1fefc80a2",
       "version_major": 2,
       "version_minor": 0
      },
      "text/plain": [
       "Output()"
      ]
     },
     "metadata": {},
     "output_type": "display_data"
    },
    {
     "data": {
      "application/vnd.jupyter.widget-view+json": {
       "model_id": "5a6853e4ab6349ed88208cfbedf2d6f5",
       "version_major": 2,
       "version_minor": 0
      },
      "text/plain": [
       "Dropdown(description='Attack algorithm', options=('FGSM', 'PGD', 'CW'), value='FGSM')"
      ]
     },
     "metadata": {},
     "output_type": "display_data"
    },
    {
     "data": {
      "application/vnd.jupyter.widget-view+json": {
       "model_id": "e93b435c3b1a4206b7579257d506573b",
       "version_major": 2,
       "version_minor": 0
      },
      "text/plain": [
       "Output()"
      ]
     },
     "metadata": {},
     "output_type": "display_data"
    },
    {
     "data": {
      "application/vnd.jupyter.widget-view+json": {
       "model_id": "6b0df73a6b234fd0afe5fb9ec26fb99b",
       "version_major": 2,
       "version_minor": 0
      },
      "image/png": "[encoded data removed]",
      "text/html": [
       "\n",
       "            <div style=\"display: inline-block;\">\n",
       "                <div class=\"jupyter-widgets widget-label\" style=\"text-align: center;\">\n",
       "                    Figure\n",
       "                </div>\n",
       "                <img src='data:image/png;base64,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' width=300.0/>\n",
       "            </div>\n",
       "        "
      ],
      "text/plain": [
       "Canvas(toolbar=Toolbar(toolitems=[('Home', 'Reset original view', 'home', 'home'), ('Back', 'Back to previous …"
      ]
     },
     "metadata": {},
     "output_type": "display_data"
    }
   ],
   "source": [
    "# iattacks = attacks_interactive(model=models[\"basemodel\"], sorted_imgbatch=img_b)\n",
    "iattacks = attacks_interactive(model=models[\"PGD5\"], sorted_imgbatch=img_b)\n"
   ]
  }
 ],
 "metadata": {
  "kernelspec": {
   "display_name": "Python 3.10.6 64-bit",
   "language": "python",
   "name": "python3"
  },
  "language_info": {
   "codemirror_mode": {
    "name": "ipython",
    "version": 3
   },
   "file_extension": ".py",
   "mimetype": "text/x-python",
   "name": "python",
   "nbconvert_exporter": "python",
   "pygments_lexer": "ipython3",
   "version": "3.10.6"
  },
  "orig_nbformat": 4,
  "vscode": {
   "interpreter": {
    "hash": "a6bbff785f7dca992236909a4969e32f59102c4fceccb1043997c81bace8c71c"
   }
  }
 },
 "nbformat": 4,
 "nbformat_minor": 2
}
