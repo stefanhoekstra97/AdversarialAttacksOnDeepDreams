{
 "cells": [
  {
   "cell_type": "code",
   "execution_count": 1,
   "metadata": {},
   "outputs": [],
   "source": [
    "#external library imports:\n",
    "import json\n",
    "import time\n",
    "\n",
    "import torch\n",
    "from torch.utils.data import DataLoader\n",
    "\n",
    "from tqdm import tqdm\n",
    "from matplotlib import pyplot as plt\n",
    "\n",
    "import torchvision\n",
    "from torchvision import transforms\n",
    "\n",
    "# Custom code imports, needs sys and os for parent directory imports..:\n",
    "import sys\n",
    "import os\n",
    "\n",
    "sys.path.append(os.path.dirname(os.getcwd()))\n",
    "\n",
    "from lightning_trainer import LitModelTrainer\n",
    "from lucent_additions.lucent_wrapper import lucent_wrapper\n",
    "from lucent_additions.custom_lucent_render import custom_img_optim, custom_render_vis\n",
    "from utils import rescale"
   ]
  },
  {
   "cell_type": "code",
   "execution_count": 2,
   "metadata": {},
   "outputs": [],
   "source": [
    "\n",
    "plt.rcParams['figure.dpi'] = 300\n",
    "# globals:\n",
    "dataset = 'CIFAR'\n",
    "# dataset = 'MNIST'\n",
    "\n",
    "_batch_size = 256\n",
    "_subset_size = 1 * _batch_size\n",
    "\n",
    "\n",
    "# Model:\n",
    "dream_model_loc = \"../trained_models/CIFAR/base_model/version_2/checkpoints/model-epoch=16-val_acc=0.819.ckpt\"\n",
    "\n",
    "torch_device = torch.device('cuda' if torch.cuda.is_available() else 'cpu')\n",
    "\n",
    "cifar_loc = '../../../data/cifar'\n",
    "\n"
   ]
  },
  {
   "cell_type": "code",
   "execution_count": 3,
   "metadata": {},
   "outputs": [
    {
     "name": "stderr",
     "output_type": "stream",
     "text": [
      "c:\\Users\\stefa\\AppData\\Local\\Programs\\Python\\Python310\\lib\\site-packages\\torch\\nn\\modules\\lazy.py:178: UserWarning: Lazy modules are a new feature under heavy development so changes to the API or functionality can happen at any moment.\n",
      "  warnings.warn('Lazy modules are a new feature under heavy development '\n"
     ]
    }
   ],
   "source": [
    "# Load model checkpoint:\n",
    "_checkpoint = LitModelTrainer.load_from_checkpoint(dream_model_loc)\n",
    "dream_model = _checkpoint.model"
   ]
  },
  {
   "cell_type": "code",
   "execution_count": 4,
   "metadata": {},
   "outputs": [],
   "source": [
    "_load_transform = transforms.Compose(\n",
    "    [transforms.ToTensor()\n",
    "    ])\n"
   ]
  },
  {
   "cell_type": "code",
   "execution_count": 5,
   "metadata": {},
   "outputs": [
    {
     "name": "stdout",
     "output_type": "stream",
     "text": [
      "Files already downloaded and verified\n"
     ]
    }
   ],
   "source": [
    "_train_dataset = torchvision.datasets.CIFAR10(root=cifar_loc, train=True,\n",
    "                                        download=True, transform=_load_transform)\n",
    "\n",
    "\n",
    "\n",
    "dataloader = DataLoader(dataset=_train_dataset, batch_size=_batch_size, shuffle=False)\n",
    "\n",
    "\n",
    "\n",
    "class_labels = [\"airplanes\", \"cars\", \"birds\", \"cats\", \"deer\", \"dogs\", \"frogs\", \"horses\", \"ships\", \"trucks\"]"
   ]
  },
  {
   "cell_type": "code",
   "execution_count": 6,
   "metadata": {},
   "outputs": [],
   "source": [
    "img_b = next(iter(dataloader))\n",
    "_x, _y = img_b\n",
    "\n",
    "_unique, _inverse = torch.unique(_y, return_inverse=True, dim=0)\n",
    "\n",
    "_perm = torch.arange(_inverse.size(0), dtype=_inverse.dtype, device=_inverse.device)\n",
    "\n",
    "_inverse, _perm = _inverse.flip([0]), _perm.flip([0])\n",
    "\n",
    "_first_class_idxs = _inverse.new_empty(_unique.size(0)).scatter_(0, _inverse, _perm)\n",
    "\n",
    "_dream_imgs = _x[_first_class_idxs]\n",
    "_dream_lbl = torch.arange(0, 10, 1, device=torch_device)\n",
    "\n",
    "img_b = (_dream_imgs, _dream_lbl)"
   ]
  },
  {
   "cell_type": "code",
   "execution_count": 1,
   "metadata": {},
   "outputs": [
    {
     "name": "stdout",
     "output_type": "stream",
     "text": [
      "allowed change 1.0\n"
     ]
    },
    {
     "ename": "NameError",
     "evalue": "name 'img_b' is not defined",
     "output_type": "error",
     "traceback": [
      "\u001b[1;31m---------------------------------------------------------------------------\u001b[0m",
      "\u001b[1;31mNameError\u001b[0m                                 Traceback (most recent call last)",
      "\u001b[1;32me:\\AzureThesis\\Adversarial attacks on Deep Dreams\\notebooks\\Generate_dreams.ipynb Cell 7\u001b[0m in \u001b[0;36m<module>\u001b[1;34m\u001b[0m\n\u001b[0;32m      <a href='vscode-notebook-cell:/e%3A/AzureThesis/Adversarial%20attacks%20on%20Deep%20Dreams/notebooks/Generate_dreams.ipynb#W6sZmlsZQ%3D%3D?line=6'>7</a>\u001b[0m eps \u001b[39m=\u001b[39m \u001b[39m255\u001b[39m\u001b[39m/\u001b[39m\u001b[39m255\u001b[39m\n\u001b[0;32m      <a href='vscode-notebook-cell:/e%3A/AzureThesis/Adversarial%20attacks%20on%20Deep%20Dreams/notebooks/Generate_dreams.ipynb#W6sZmlsZQ%3D%3D?line=8'>9</a>\u001b[0m \u001b[39mprint\u001b[39m(\u001b[39mf\u001b[39m\u001b[39m\"\u001b[39m\u001b[39mallowed change \u001b[39m\u001b[39m{\u001b[39;00meps\u001b[39m}\u001b[39;00m\u001b[39m\"\u001b[39m)\n\u001b[1;32m---> <a href='vscode-notebook-cell:/e%3A/AzureThesis/Adversarial%20attacks%20on%20Deep%20Dreams/notebooks/Generate_dreams.ipynb#W6sZmlsZQ%3D%3D?line=10'>11</a>\u001b[0m x, y \u001b[39m=\u001b[39m img_b\n\u001b[0;32m     <a href='vscode-notebook-cell:/e%3A/AzureThesis/Adversarial%20attacks%20on%20Deep%20Dreams/notebooks/Generate_dreams.ipynb#W6sZmlsZQ%3D%3D?line=11'>12</a>\u001b[0m x, y \u001b[39m=\u001b[39m x\u001b[39m.\u001b[39mto(torch_device), y\u001b[39m.\u001b[39mto(torch_device)\n\u001b[0;32m     <a href='vscode-notebook-cell:/e%3A/AzureThesis/Adversarial%20attacks%20on%20Deep%20Dreams/notebooks/Generate_dreams.ipynb#W6sZmlsZQ%3D%3D?line=13'>14</a>\u001b[0m \u001b[39m# imgs1 = custom_img_optim(dream_model, img_b, iterations=32, l2_weight=0, eps_limit=eps, verbose=False, optimizer_l=optimizer_l)\u001b[39;00m\n",
      "\u001b[1;31mNameError\u001b[0m: name 'img_b' is not defined"
     ]
    }
   ],
   "source": [
    "import numpy as np\n",
    "\n",
    "\n",
    "optimizer_l = lambda p: torch.optim.Adam(p, lr=1e-2)\n",
    "tocpu = lambda t: t.detach().clone().cpu()\n",
    "\n",
    "eps = 255/255\n",
    "\n",
    "print(f\"allowed change {eps}\")\n",
    "\n",
    "x, y = img_b\n",
    "x, y = x.to(torch_device), y.to(torch_device)\n",
    "\n",
    "# imgs1 = custom_img_optim(dream_model, img_b, iterations=32, l2_weight=0, eps_limit=eps, verbose=False, optimizer_l=optimizer_l)\n",
    "imgs1 = custom_render_vis(model=dream_model, batch=img_b, opt_lr=1e-2, thresholds=32)[-1]\n",
    "\n",
    "diff = torch.sub(x.to(torch_device), imgs1)\n",
    "l2dist = torch.linalg.vector_norm(diff, ord=2, dim=(-1,-2,-3))\n",
    "linfdist = torch.linalg.vector_norm(diff, ord=float('inf'), dim=(-1,-2,-3))\n",
    "with torch.no_grad():\n",
    "    y_orig = dream_model(x)\n",
    "    y_dream = dream_model(imgs1)\n",
    "    y_diff = y_dream - y_orig\n",
    "\n",
    "# print(y_diff)\n",
    "# print(f\"Mean y diff : {y_diff.mean()}, (avg) max y diff : {y_diff.max(dim=1)[0].mean()}\")\n",
    "print(f'L2, Linf distances = \\n {[\"{0:0.2f}\".format(val) for val in l2dist.tolist()]} \\n {[\"{0:0.2f}\".format(val) for val in linfdist.tolist()]}')\n",
    "\n",
    "print(f\"mean l2 dist: {np.mean(l2dist.tolist())}\")\n",
    "x, imgs1= tocpu(x), tocpu(imgs1)\n",
    "\n",
    "grid_imgs = torchvision.utils.make_grid(torch.concat([x, imgs1, rescale(torch.sub(imgs1, x), (0, 1))]), nrow=10, pad_value=1)\n",
    "plt.imshow(grid_imgs.permute(1,2,0), interpolation=\"none\")\n",
    "plt.tick_params(\n",
    "    axis='both',\n",
    "    which='both',\n",
    "    bottom=False,\n",
    "    top=False,\n",
    "    labelleft=False,\n",
    "    labelbottom=False,\n",
    "    left=False)\n",
    "\n",
    "for pos in ['right', 'top', 'bottom', 'left']:\n",
    "    plt.gca().spines[pos].set_visible(False)\n",
    "plt.show()"
   ]
  }
 ],
 "metadata": {
  "kernelspec": {
   "display_name": "Python 3.10.6 64-bit",
   "language": "python",
   "name": "python3"
  },
  "language_info": {
   "codemirror_mode": {
    "name": "ipython",
    "version": 3
   },
   "file_extension": ".py",
   "mimetype": "text/x-python",
   "name": "python",
   "nbconvert_exporter": "python",
   "pygments_lexer": "ipython3",
   "version": "3.10.6"
  },
  "orig_nbformat": 4,
  "vscode": {
   "interpreter": {
    "hash": "a6bbff785f7dca992236909a4969e32f59102c4fceccb1043997c81bace8c71c"
   }
  }
 },
 "nbformat": 4,
 "nbformat_minor": 2
}
